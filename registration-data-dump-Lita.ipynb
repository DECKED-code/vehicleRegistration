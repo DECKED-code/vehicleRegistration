{
 "cells": [
  {
   "cell_type": "code",
   "execution_count": 1,
   "metadata": {},
   "outputs": [
    {
     "name": "stderr",
     "output_type": "stream",
     "text": [
      "/Users/litalertlumprasert/opt/anaconda3/lib/python3.9/site-packages/snowflake/connector/options.py:94: UserWarning: You have an incompatible version of 'pyarrow' installed (7.0.0), please install a version that adheres to: 'pyarrow<6.1.0,>=6.0.0; extra == \"pandas\"'\n",
      "  warn_incompatible_dep(\n"
     ]
    }
   ],
   "source": [
    "import pandas as pd\n",
    "import snowflake.connector\n",
    "from snowflake.connector.pandas_tools import write_pandas\n",
    "import getpass\n",
    "import os"
   ]
  },
  {
   "cell_type": "code",
   "execution_count": 2,
   "metadata": {},
   "outputs": [
    {
     "name": "stdout",
     "output_type": "stream",
     "text": [
      "Password: ········\n"
     ]
    }
   ],
   "source": [
    "con = snowflake.connector.connect(\n",
    "    user='LITA',\n",
    "    password=getpass.getpass(prompt='Password: ', stream=None),\n",
    "    account='tga60420',\n",
    "    warehouse='COMPUTE_WH',\n",
    "    database='ANALYST',\n",
    "    schema='VEHICLE_REGISTRATIONS'\n",
    ")"
   ]
  },
  {
   "cell_type": "markdown",
   "metadata": {},
   "source": []
  },
  {
   "cell_type": "raw",
   "metadata": {},
   "source": [
    "pwd"
   ]
  },
  {
   "cell_type": "code",
   "execution_count": 3,
   "metadata": {},
   "outputs": [
    {
     "name": "stdout",
     "output_type": "stream",
     "text": [
      "\u001b[31mDECKED_NEW_VEHICLE_DATA_202211.csv\u001b[m\u001b[m*  \u001b[34marchive\u001b[m\u001b[m/\r\n",
      "\u001b[31mDECKED_USED_VEHICLE_DATA_202211.csv\u001b[m\u001b[m*\r\n"
     ]
    }
   ],
   "source": [
    "ls data/"
   ]
  },
  {
   "cell_type": "code",
   "execution_count": 4,
   "metadata": {},
   "outputs": [],
   "source": [
    "files = [x for x in os.listdir('./data/') if ((x[0] != '~') & (('DECKED_') in x) & ('.zip' not in x))]"
   ]
  },
  {
   "cell_type": "code",
   "execution_count": 5,
   "metadata": {},
   "outputs": [
    {
     "data": {
      "text/plain": [
       "['DECKED_NEW_VEHICLE_DATA_202211.csv', 'DECKED_USED_VEHICLE_DATA_202211.csv']"
      ]
     },
     "execution_count": 5,
     "metadata": {},
     "output_type": "execute_result"
    }
   ],
   "source": [
    "files"
   ]
  },
  {
   "cell_type": "code",
   "execution_count": 6,
   "metadata": {},
   "outputs": [
    {
     "name": "stdout",
     "output_type": "stream",
     "text": [
      "0 DECKED_NEW_VEHICLE_DATA_202211.csv\n",
      "adding new\n",
      "1 DECKED_USED_VEHICLE_DATA_202211.csv\n",
      "adding used\n"
     ]
    }
   ],
   "source": [
    "for i, file in enumerate(files):\n",
    "    print(i, file)\n",
    "    if i == 0:\n",
    "        df = pd.read_csv(f'data/{file}')\n",
    "        if 'NEW' in file:\n",
    "            print('adding new')\n",
    "            df['NEW_USED'] = 'NEW'\n",
    "        elif 'USED' in file:\n",
    "            print('adding used')\n",
    "            df['NEW_USED'] = 'USED'\n",
    "    else:\n",
    "        df_i = pd.read_csv(f'data/{file}')\n",
    "        if 'NEW' in file:\n",
    "            print('adding new')            \n",
    "            df_i['NEW_USED'] = 'NEW'\n",
    "        elif 'USED' in file:\n",
    "            print('adding used')\n",
    "            df_i['NEW_USED'] = 'USED'            \n",
    "        df = pd.concat([df, df_i])"
   ]
  },
  {
   "cell_type": "code",
   "execution_count": 7,
   "metadata": {},
   "outputs": [
    {
     "data": {
      "text/plain": [
       "NEW     3123015\n",
       "USED    2662381\n",
       "Name: NEW_USED, dtype: int64"
      ]
     },
     "execution_count": 7,
     "metadata": {},
     "output_type": "execute_result"
    }
   ],
   "source": [
    "df['NEW_USED'].value_counts()"
   ]
  },
  {
   "cell_type": "code",
   "execution_count": null,
   "metadata": {},
   "outputs": [],
   "source": []
  },
  {
   "cell_type": "code",
   "execution_count": 8,
   "metadata": {},
   "outputs": [
    {
     "data": {
      "text/plain": [
       "Index(['REPORT_YEAR_MONTH', 'BODY_STYLE', 'CYLINDERS', 'DOORS', 'DRIVE_TYPE',\n",
       "       'FUEL_TYPE', 'GVW_CODE', 'GVW_DESCRIPTION', 'MAKE', 'MODEL', 'ORIGIN',\n",
       "       'SEGMENT', 'SERIES', 'SUB_SERIES', 'BED_SIZE', 'CAB_SIZE', 'TURBO',\n",
       "       'MODEL_YEAR', 'REGISTRATION_TYPE', 'DELAER_NAME', 'DEALER_ADDRESS',\n",
       "       'DEALER_TOWN', 'DEALER_STATE', 'DEALER_ASSIGNED_ZIP', 'DEALER_DMA',\n",
       "       'DEALER_COUNTY', 'OCCUPATION', 'VEHICLE_COUNT', 'NEW_USED'],\n",
       "      dtype='object')"
      ]
     },
     "execution_count": 8,
     "metadata": {},
     "output_type": "execute_result"
    }
   ],
   "source": [
    "df.columns"
   ]
  },
  {
   "cell_type": "code",
   "execution_count": 9,
   "metadata": {},
   "outputs": [
    {
     "data": {
      "text/plain": [
       "8671181"
      ]
     },
     "execution_count": 9,
     "metadata": {},
     "output_type": "execute_result"
    }
   ],
   "source": [
    "df.loc[df['REGISTRATION_TYPE'] == '(01) TOTAL (INCLUDES 2 11 18)' , 'VEHICLE_COUNT'].sum()"
   ]
  },
  {
   "cell_type": "code",
   "execution_count": 10,
   "metadata": {},
   "outputs": [
    {
     "data": {
      "text/plain": [
       "2725338"
      ]
     },
     "execution_count": 10,
     "metadata": {},
     "output_type": "execute_result"
    }
   ],
   "source": [
    "df['VEHICLE_COUNT'].sum() - df.loc[df['REGISTRATION_TYPE'] == '(01) TOTAL (INCLUDES 2 11 18)' , 'VEHICLE_COUNT'].sum()"
   ]
  },
  {
   "cell_type": "code",
   "execution_count": 11,
   "metadata": {},
   "outputs": [],
   "source": [
    "df_ads = df[~df['REGISTRATION_TYPE'].str.contains('INCLUDES')]"
   ]
  },
  {
   "cell_type": "code",
   "execution_count": 12,
   "metadata": {},
   "outputs": [
    {
     "data": {
      "text/plain": [
       "(13) COMMERCIAL                                 76281\n",
       "(12) RENTAL/LEASE                               28615\n",
       "(17) GOVERNMENT                                 20005\n",
       "(15) PARTICIPATING INDEPENDENT LEASE - FLEET    17122\n",
       "(14) MANUFACTURER SPONSORED LEASE - FLEET        1684\n",
       "Name: REGISTRATION_TYPE, dtype: int64"
      ]
     },
     "execution_count": 12,
     "metadata": {},
     "output_type": "execute_result"
    }
   ],
   "source": [
    "df_ads['REGISTRATION_TYPE'].value_counts()"
   ]
  },
  {
   "cell_type": "code",
   "execution_count": 13,
   "metadata": {},
   "outputs": [],
   "source": [
    "query = 'SELECT MAX(REPORT_YEAR_MONTH) FROM ANALYST.VEHICLE_REGISTRATIONS.REGISTRATIONS'"
   ]
  },
  {
   "cell_type": "code",
   "execution_count": 14,
   "metadata": {},
   "outputs": [
    {
     "data": {
      "text/plain": [
       "<snowflake.connector.cursor.SnowflakeCursor at 0x7ff4e8dd7ac0>"
      ]
     },
     "execution_count": 14,
     "metadata": {},
     "output_type": "execute_result"
    }
   ],
   "source": [
    "cur = con.cursor()\n",
    "cur.execute(query)"
   ]
  },
  {
   "cell_type": "code",
   "execution_count": 15,
   "metadata": {},
   "outputs": [],
   "source": [
    "max_date = cur.fetchone()[0]"
   ]
  },
  {
   "cell_type": "code",
   "execution_count": 16,
   "metadata": {},
   "outputs": [
    {
     "data": {
      "text/plain": [
       "202210"
      ]
     },
     "execution_count": 16,
     "metadata": {},
     "output_type": "execute_result"
    }
   ],
   "source": [
    "max_date"
   ]
  },
  {
   "cell_type": "code",
   "execution_count": 17,
   "metadata": {},
   "outputs": [
    {
     "data": {
      "text/plain": [
       "202205    556834\n",
       "202203    555262\n",
       "202204    544224\n",
       "202207    543477\n",
       "202201    537722\n",
       "202208    526534\n",
       "202202    519067\n",
       "202206    517245\n",
       "202210    516857\n",
       "202209    501734\n",
       "202211    466440\n",
       "Name: REPORT_YEAR_MONTH, dtype: int64"
      ]
     },
     "execution_count": 17,
     "metadata": {},
     "output_type": "execute_result"
    }
   ],
   "source": [
    "df['REPORT_YEAR_MONTH'].value_counts()"
   ]
  },
  {
   "cell_type": "code",
   "execution_count": 18,
   "metadata": {},
   "outputs": [],
   "source": [
    "df_new = df[df['REPORT_YEAR_MONTH'] > max_date]"
   ]
  },
  {
   "cell_type": "code",
   "execution_count": 19,
   "metadata": {},
   "outputs": [
    {
     "data": {
      "text/plain": [
       "202211    466440\n",
       "Name: REPORT_YEAR_MONTH, dtype: int64"
      ]
     },
     "execution_count": 19,
     "metadata": {},
     "output_type": "execute_result"
    }
   ],
   "source": [
    "df_new['REPORT_YEAR_MONTH'].value_counts()"
   ]
  },
  {
   "cell_type": "code",
   "execution_count": 20,
   "metadata": {},
   "outputs": [
    {
     "name": "stdout",
     "output_type": "stream",
     "text": [
      "<class 'pandas.core.frame.DataFrame'>\n",
      "Int64Index: 466440 entries, 0 to 197530\n",
      "Data columns (total 29 columns):\n",
      " #   Column               Non-Null Count   Dtype  \n",
      "---  ------               --------------   -----  \n",
      " 0   REPORT_YEAR_MONTH    466440 non-null  int64  \n",
      " 1   BODY_STYLE           466440 non-null  object \n",
      " 2   CYLINDERS            462860 non-null  object \n",
      " 3   DOORS                466214 non-null  object \n",
      " 4   DRIVE_TYPE           466440 non-null  object \n",
      " 5   FUEL_TYPE            466440 non-null  object \n",
      " 6   GVW_CODE             466440 non-null  int64  \n",
      " 7   GVW_DESCRIPTION      466440 non-null  object \n",
      " 8   MAKE                 466440 non-null  object \n",
      " 9   MODEL                466440 non-null  object \n",
      " 10  ORIGIN               466440 non-null  object \n",
      " 11  SEGMENT              466440 non-null  object \n",
      " 12  SERIES               466440 non-null  object \n",
      " 13  SUB_SERIES           466440 non-null  object \n",
      " 14  BED_SIZE             466088 non-null  object \n",
      " 15  CAB_SIZE             466100 non-null  object \n",
      " 16  TURBO                466440 non-null  object \n",
      " 17  MODEL_YEAR           466440 non-null  int64  \n",
      " 18  REGISTRATION_TYPE    466440 non-null  object \n",
      " 19  DELAER_NAME          466440 non-null  object \n",
      " 20  DEALER_ADDRESS       426367 non-null  object \n",
      " 21  DEALER_TOWN          426369 non-null  object \n",
      " 22  DEALER_STATE         426369 non-null  object \n",
      " 23  DEALER_ASSIGNED_ZIP  426369 non-null  float64\n",
      " 24  DEALER_DMA           426369 non-null  object \n",
      " 25  DEALER_COUNTY        426369 non-null  object \n",
      " 26  OCCUPATION           466440 non-null  object \n",
      " 27  VEHICLE_COUNT        466440 non-null  int64  \n",
      " 28  NEW_USED             466440 non-null  object \n",
      "dtypes: float64(1), int64(4), object(24)\n",
      "memory usage: 106.8+ MB\n"
     ]
    }
   ],
   "source": [
    "df_new.info()"
   ]
  },
  {
   "cell_type": "code",
   "execution_count": 21,
   "metadata": {},
   "outputs": [
    {
     "data": {
      "text/html": [
       "<div>\n",
       "<style scoped>\n",
       "    .dataframe tbody tr th:only-of-type {\n",
       "        vertical-align: middle;\n",
       "    }\n",
       "\n",
       "    .dataframe tbody tr th {\n",
       "        vertical-align: top;\n",
       "    }\n",
       "\n",
       "    .dataframe thead th {\n",
       "        text-align: right;\n",
       "    }\n",
       "</style>\n",
       "<table border=\"1\" class=\"dataframe\">\n",
       "  <thead>\n",
       "    <tr style=\"text-align: right;\">\n",
       "      <th></th>\n",
       "      <th>REPORT_YEAR_MONTH</th>\n",
       "      <th>BODY_STYLE</th>\n",
       "      <th>CYLINDERS</th>\n",
       "      <th>DOORS</th>\n",
       "      <th>DRIVE_TYPE</th>\n",
       "      <th>FUEL_TYPE</th>\n",
       "      <th>GVW_CODE</th>\n",
       "      <th>GVW_DESCRIPTION</th>\n",
       "      <th>MAKE</th>\n",
       "      <th>MODEL</th>\n",
       "      <th>...</th>\n",
       "      <th>DELAER_NAME</th>\n",
       "      <th>DEALER_ADDRESS</th>\n",
       "      <th>DEALER_TOWN</th>\n",
       "      <th>DEALER_STATE</th>\n",
       "      <th>DEALER_ASSIGNED_ZIP</th>\n",
       "      <th>DEALER_DMA</th>\n",
       "      <th>DEALER_COUNTY</th>\n",
       "      <th>OCCUPATION</th>\n",
       "      <th>VEHICLE_COUNT</th>\n",
       "      <th>NEW_USED</th>\n",
       "    </tr>\n",
       "  </thead>\n",
       "  <tbody>\n",
       "    <tr>\n",
       "      <th>0</th>\n",
       "      <td>202211</td>\n",
       "      <td>PICKUPS</td>\n",
       "      <td>4 CYLINDERS</td>\n",
       "      <td>2 DOORS</td>\n",
       "      <td>4X4 OR REAR WHEEL DRIVE</td>\n",
       "      <td>GASOLINE</td>\n",
       "      <td>1</td>\n",
       "      <td>0 - 6000 lbs.</td>\n",
       "      <td>TOYOTA</td>\n",
       "      <td>TACOMA</td>\n",
       "      <td>...</td>\n",
       "      <td>ACTON TOYOTA OF LITTLETON</td>\n",
       "      <td>221 GREAT  RD</td>\n",
       "      <td>LITTLETON</td>\n",
       "      <td>MA</td>\n",
       "      <td>1460.0</td>\n",
       "      <td>BOSTON (MANCHESTER)</td>\n",
       "      <td>MIDDLESEX</td>\n",
       "      <td>NOCODE</td>\n",
       "      <td>1</td>\n",
       "      <td>NEW</td>\n",
       "    </tr>\n",
       "    <tr>\n",
       "      <th>1</th>\n",
       "      <td>202211</td>\n",
       "      <td>PICKUPS</td>\n",
       "      <td>4 CYLINDERS</td>\n",
       "      <td>2 DOORS</td>\n",
       "      <td>4X4 OR REAR WHEEL DRIVE</td>\n",
       "      <td>GASOLINE</td>\n",
       "      <td>1</td>\n",
       "      <td>0 - 6000 lbs.</td>\n",
       "      <td>TOYOTA</td>\n",
       "      <td>TACOMA</td>\n",
       "      <td>...</td>\n",
       "      <td>AL HENDRICKSON TOYOTA</td>\n",
       "      <td>5201 W SAMPLE  RD</td>\n",
       "      <td>COCONUT CREEK</td>\n",
       "      <td>FL</td>\n",
       "      <td>33073.0</td>\n",
       "      <td>MIAMI FT LAUDERDALE</td>\n",
       "      <td>BROWARD</td>\n",
       "      <td>UNKNOWN</td>\n",
       "      <td>2</td>\n",
       "      <td>NEW</td>\n",
       "    </tr>\n",
       "    <tr>\n",
       "      <th>2</th>\n",
       "      <td>202211</td>\n",
       "      <td>PICKUPS</td>\n",
       "      <td>4 CYLINDERS</td>\n",
       "      <td>2 DOORS</td>\n",
       "      <td>4X4 OR REAR WHEEL DRIVE</td>\n",
       "      <td>GASOLINE</td>\n",
       "      <td>1</td>\n",
       "      <td>0 - 6000 lbs.</td>\n",
       "      <td>TOYOTA</td>\n",
       "      <td>TACOMA</td>\n",
       "      <td>...</td>\n",
       "      <td>ANTWERPENS TOYOTA</td>\n",
       "      <td>12420 AUTO  DR</td>\n",
       "      <td>CLARKSVILLE</td>\n",
       "      <td>MD</td>\n",
       "      <td>21029.0</td>\n",
       "      <td>BALTIMORE</td>\n",
       "      <td>HOWARD</td>\n",
       "      <td>NOCODE</td>\n",
       "      <td>2</td>\n",
       "      <td>NEW</td>\n",
       "    </tr>\n",
       "    <tr>\n",
       "      <th>3</th>\n",
       "      <td>202211</td>\n",
       "      <td>PICKUPS</td>\n",
       "      <td>4 CYLINDERS</td>\n",
       "      <td>2 DOORS</td>\n",
       "      <td>4X4 OR REAR WHEEL DRIVE</td>\n",
       "      <td>GASOLINE</td>\n",
       "      <td>1</td>\n",
       "      <td>0 - 6000 lbs.</td>\n",
       "      <td>TOYOTA</td>\n",
       "      <td>TACOMA</td>\n",
       "      <td>...</td>\n",
       "      <td>ATLANTA TOYOTA</td>\n",
       "      <td>2345 PLEASANT HILL  RD</td>\n",
       "      <td>DULUTH</td>\n",
       "      <td>GA</td>\n",
       "      <td>30096.0</td>\n",
       "      <td>ATLANTA</td>\n",
       "      <td>GWINNETT</td>\n",
       "      <td>UNKNOWN</td>\n",
       "      <td>1</td>\n",
       "      <td>NEW</td>\n",
       "    </tr>\n",
       "    <tr>\n",
       "      <th>4</th>\n",
       "      <td>202211</td>\n",
       "      <td>PICKUPS</td>\n",
       "      <td>4 CYLINDERS</td>\n",
       "      <td>2 DOORS</td>\n",
       "      <td>4X4 OR REAR WHEEL DRIVE</td>\n",
       "      <td>GASOLINE</td>\n",
       "      <td>1</td>\n",
       "      <td>0 - 6000 lbs.</td>\n",
       "      <td>TOYOTA</td>\n",
       "      <td>TACOMA</td>\n",
       "      <td>...</td>\n",
       "      <td>AUTONATION TOYOTA FORT MYERS</td>\n",
       "      <td>2555 COLONIAL  BLVD</td>\n",
       "      <td>FORT MYERS</td>\n",
       "      <td>FL</td>\n",
       "      <td>33907.0</td>\n",
       "      <td>FT MYERS NAPLES</td>\n",
       "      <td>LEE</td>\n",
       "      <td>UNKNOWN</td>\n",
       "      <td>1</td>\n",
       "      <td>NEW</td>\n",
       "    </tr>\n",
       "  </tbody>\n",
       "</table>\n",
       "<p>5 rows × 29 columns</p>\n",
       "</div>"
      ],
      "text/plain": [
       "   REPORT_YEAR_MONTH BODY_STYLE    CYLINDERS    DOORS  \\\n",
       "0             202211    PICKUPS  4 CYLINDERS  2 DOORS   \n",
       "1             202211    PICKUPS  4 CYLINDERS  2 DOORS   \n",
       "2             202211    PICKUPS  4 CYLINDERS  2 DOORS   \n",
       "3             202211    PICKUPS  4 CYLINDERS  2 DOORS   \n",
       "4             202211    PICKUPS  4 CYLINDERS  2 DOORS   \n",
       "\n",
       "                DRIVE_TYPE FUEL_TYPE  GVW_CODE        GVW_DESCRIPTION    MAKE  \\\n",
       "0  4X4 OR REAR WHEEL DRIVE  GASOLINE         1          0 - 6000 lbs.  TOYOTA   \n",
       "1  4X4 OR REAR WHEEL DRIVE  GASOLINE         1          0 - 6000 lbs.  TOYOTA   \n",
       "2  4X4 OR REAR WHEEL DRIVE  GASOLINE         1          0 - 6000 lbs.  TOYOTA   \n",
       "3  4X4 OR REAR WHEEL DRIVE  GASOLINE         1          0 - 6000 lbs.  TOYOTA   \n",
       "4  4X4 OR REAR WHEEL DRIVE  GASOLINE         1          0 - 6000 lbs.  TOYOTA   \n",
       "\n",
       "    MODEL  ...                   DELAER_NAME          DEALER_ADDRESS  \\\n",
       "0  TACOMA  ...     ACTON TOYOTA OF LITTLETON           221 GREAT  RD   \n",
       "1  TACOMA  ...         AL HENDRICKSON TOYOTA       5201 W SAMPLE  RD   \n",
       "2  TACOMA  ...             ANTWERPENS TOYOTA          12420 AUTO  DR   \n",
       "3  TACOMA  ...                ATLANTA TOYOTA  2345 PLEASANT HILL  RD   \n",
       "4  TACOMA  ...  AUTONATION TOYOTA FORT MYERS     2555 COLONIAL  BLVD   \n",
       "\n",
       "     DEALER_TOWN DEALER_STATE DEALER_ASSIGNED_ZIP           DEALER_DMA  \\\n",
       "0      LITTLETON           MA              1460.0  BOSTON (MANCHESTER)   \n",
       "1  COCONUT CREEK           FL             33073.0  MIAMI FT LAUDERDALE   \n",
       "2    CLARKSVILLE           MD             21029.0            BALTIMORE   \n",
       "3         DULUTH           GA             30096.0              ATLANTA   \n",
       "4     FORT MYERS           FL             33907.0      FT MYERS NAPLES   \n",
       "\n",
       "  DEALER_COUNTY  OCCUPATION VEHICLE_COUNT NEW_USED  \n",
       "0     MIDDLESEX      NOCODE             1      NEW  \n",
       "1       BROWARD     UNKNOWN             2      NEW  \n",
       "2        HOWARD      NOCODE             2      NEW  \n",
       "3      GWINNETT     UNKNOWN             1      NEW  \n",
       "4           LEE     UNKNOWN             1      NEW  \n",
       "\n",
       "[5 rows x 29 columns]"
      ]
     },
     "execution_count": 21,
     "metadata": {},
     "output_type": "execute_result"
    }
   ],
   "source": [
    "df_new.head()"
   ]
  },
  {
   "cell_type": "code",
   "execution_count": 22,
   "metadata": {},
   "outputs": [
    {
     "name": "stderr",
     "output_type": "stream",
     "text": [
      "/var/folders/zp/mrm17z_n1lvb4lhxxv1jmzdh0000gp/T/ipykernel_14487/2089189252.py:1: SettingWithCopyWarning: \n",
      "A value is trying to be set on a copy of a slice from a DataFrame.\n",
      "Try using .loc[row_indexer,col_indexer] = value instead\n",
      "\n",
      "See the caveats in the documentation: https://pandas.pydata.org/pandas-docs/stable/user_guide/indexing.html#returning-a-view-versus-a-copy\n",
      "  df_new['SERIES'] = df_new['SERIES'].astype(str)\n"
     ]
    }
   ],
   "source": [
    "df_new['SERIES'] = df_new['SERIES'].astype(str)"
   ]
  },
  {
   "cell_type": "code",
   "execution_count": 23,
   "metadata": {},
   "outputs": [
    {
     "data": {
      "text/plain": [
       "(True,\n",
       " 1,\n",
       " 466440,\n",
       " [('gkofw/file0.txt', 'LOADED', 466440, 466440, 1, 0, None, None, None, None)])"
      ]
     },
     "execution_count": 23,
     "metadata": {},
     "output_type": "execute_result"
    }
   ],
   "source": [
    "write_pandas(con, df_new, 'REGISTRATIONS')"
   ]
  },
  {
   "cell_type": "code",
   "execution_count": null,
   "metadata": {},
   "outputs": [],
   "source": []
  }
 ],
 "metadata": {
  "kernelspec": {
   "display_name": "Python 3 (ipykernel)",
   "language": "python",
   "name": "python3"
  },
  "language_info": {
   "codemirror_mode": {
    "name": "ipython",
    "version": 3
   },
   "file_extension": ".py",
   "mimetype": "text/x-python",
   "name": "python",
   "nbconvert_exporter": "python",
   "pygments_lexer": "ipython3",
   "version": "3.9.7"
  }
 },
 "nbformat": 4,
 "nbformat_minor": 4
}
